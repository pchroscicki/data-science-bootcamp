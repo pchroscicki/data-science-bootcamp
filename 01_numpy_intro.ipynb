{
  "nbformat": 4,
  "nbformat_minor": 0,
  "metadata": {
    "colab": {
      "provenance": [],
      "toc_visible": true,
      "authorship_tag": "ABX9TyP4hi4zf26FGixBpe+FCXK3",
      "include_colab_link": true
    },
    "kernelspec": {
      "name": "python3",
      "display_name": "Python 3"
    },
    "language_info": {
      "name": "python"
    }
  },
  "cells": [
    {
      "cell_type": "markdown",
      "metadata": {
        "id": "view-in-github",
        "colab_type": "text"
      },
      "source": [
        "<a href=\"https://colab.research.google.com/github/pchroscicki/data-science-bootcamp/blob/main/01_numpy_intro.ipynb\" target=\"_parent\"><img src=\"https://colab.research.google.com/assets/colab-badge.svg\" alt=\"Open In Colab\"/></a>"
      ]
    },
    {
      "cell_type": "markdown",
      "source": [
        "# **NumPy - Basic datatypes**"
      ],
      "metadata": {
        "id": "c_ZfW7bLc-X9"
      }
    },
    {
      "cell_type": "code",
      "execution_count": 1,
      "metadata": {
        "colab": {
          "base_uri": "https://localhost:8080/",
          "height": 35
        },
        "id": "6wWcywjMBax3",
        "outputId": "d45a1dd1-3cf8-4383-b0b7-dbcb5de551ea"
      },
      "outputs": [
        {
          "output_type": "execute_result",
          "data": {
            "text/plain": [
              "'1.21.6'"
            ],
            "application/vnd.google.colaboratory.intrinsic+json": {
              "type": "string"
            }
          },
          "metadata": {},
          "execution_count": 1
        }
      ],
      "source": [
        "import numpy as np\n",
        "np.__version__"
      ]
    },
    {
      "cell_type": "code",
      "source": [
        "print(dir(np))"
      ],
      "metadata": {
        "id": "yJ8XyibjB91C"
      },
      "execution_count": null,
      "outputs": []
    },
    {
      "cell_type": "code",
      "source": [
        "help(np.array)"
      ],
      "metadata": {
        "id": "_aHyq9iiCAbW"
      },
      "execution_count": null,
      "outputs": []
    },
    {
      "cell_type": "markdown",
      "source": [
        "1D Array"
      ],
      "metadata": {
        "id": "W9OO_8ieGal-"
      }
    },
    {
      "cell_type": "code",
      "source": [
        "x = np.array([1, 3])\n",
        "x"
      ],
      "metadata": {
        "colab": {
          "base_uri": "https://localhost:8080/"
        },
        "id": "A1S_NgI9C1r4",
        "outputId": "37db92ac-4330-4657-d7fa-504260f2374d"
      },
      "execution_count": 6,
      "outputs": [
        {
          "output_type": "execute_result",
          "data": {
            "text/plain": [
              "array([1, 3])"
            ]
          },
          "metadata": {},
          "execution_count": 6
        }
      ]
    },
    {
      "cell_type": "code",
      "source": [
        "print(x)\n",
        "type(x)"
      ],
      "metadata": {
        "colab": {
          "base_uri": "https://localhost:8080/"
        },
        "id": "zyN8fsdMF0r4",
        "outputId": "c137ca21-173e-4e0d-ec48-fd86b8309312"
      },
      "execution_count": 7,
      "outputs": [
        {
          "output_type": "stream",
          "name": "stdout",
          "text": [
            "[1 3]\n"
          ]
        },
        {
          "output_type": "execute_result",
          "data": {
            "text/plain": [
              "numpy.ndarray"
            ]
          },
          "metadata": {},
          "execution_count": 7
        }
      ]
    },
    {
      "cell_type": "markdown",
      "source": [
        "-array attributes:"
      ],
      "metadata": {
        "id": "EqeJVC4lH7Xm"
      }
    },
    {
      "cell_type": "code",
      "source": [
        "x.ndim"
      ],
      "metadata": {
        "colab": {
          "base_uri": "https://localhost:8080/"
        },
        "id": "FtbwK5LeIQQa",
        "outputId": "fae1ff2a-5643-47d1-9ae1-5efce69464ec"
      },
      "execution_count": 8,
      "outputs": [
        {
          "output_type": "execute_result",
          "data": {
            "text/plain": [
              "1"
            ]
          },
          "metadata": {},
          "execution_count": 8
        }
      ]
    },
    {
      "cell_type": "code",
      "source": [
        "x.shape"
      ],
      "metadata": {
        "colab": {
          "base_uri": "https://localhost:8080/"
        },
        "id": "h0yVhU5sIeO1",
        "outputId": "67147ec1-b373-4e56-e46d-414e2373b97f"
      },
      "execution_count": 9,
      "outputs": [
        {
          "output_type": "execute_result",
          "data": {
            "text/plain": [
              "(2,)"
            ]
          },
          "metadata": {},
          "execution_count": 9
        }
      ]
    },
    {
      "cell_type": "code",
      "source": [
        "x.size"
      ],
      "metadata": {
        "colab": {
          "base_uri": "https://localhost:8080/"
        },
        "id": "8_rtWgpXIfbA",
        "outputId": "be3b8a38-b1cc-46c0-e132-4f64db90f986"
      },
      "execution_count": 10,
      "outputs": [
        {
          "output_type": "execute_result",
          "data": {
            "text/plain": [
              "2"
            ]
          },
          "metadata": {},
          "execution_count": 10
        }
      ]
    },
    {
      "cell_type": "code",
      "source": [
        "x.dtype"
      ],
      "metadata": {
        "colab": {
          "base_uri": "https://localhost:8080/"
        },
        "id": "jRabHLR4Igtl",
        "outputId": "468ae7de-ad02-4e78-c39f-7f5e46e9c2e7"
      },
      "execution_count": 11,
      "outputs": [
        {
          "output_type": "execute_result",
          "data": {
            "text/plain": [
              "dtype('int64')"
            ]
          },
          "metadata": {},
          "execution_count": 11
        }
      ]
    },
    {
      "cell_type": "code",
      "source": [
        "x = np.array([1.2, 1.4, 1.6])\n",
        "x.dtype"
      ],
      "metadata": {
        "colab": {
          "base_uri": "https://localhost:8080/"
        },
        "id": "fmarcGYCImlG",
        "outputId": "d085d506-70fb-407c-dadc-db8dbfe27147"
      },
      "execution_count": 12,
      "outputs": [
        {
          "output_type": "execute_result",
          "data": {
            "text/plain": [
              "dtype('float64')"
            ]
          },
          "metadata": {},
          "execution_count": 12
        }
      ]
    },
    {
      "cell_type": "markdown",
      "source": [
        "2D Array"
      ],
      "metadata": {
        "id": "15mddblwJ1VH"
      }
    },
    {
      "cell_type": "code",
      "source": [
        "x = np.array([[1, 2], [-3, 1]])\n",
        "x"
      ],
      "metadata": {
        "colab": {
          "base_uri": "https://localhost:8080/"
        },
        "id": "V6j5HewnJdjo",
        "outputId": "55eeb81e-e050-408c-b040-045ce6c6764d"
      },
      "execution_count": 13,
      "outputs": [
        {
          "output_type": "execute_result",
          "data": {
            "text/plain": [
              "array([[ 1,  2],\n",
              "       [-3,  1]])"
            ]
          },
          "metadata": {},
          "execution_count": 13
        }
      ]
    },
    {
      "cell_type": "markdown",
      "source": [
        "-attributes"
      ],
      "metadata": {
        "id": "14ZSTQBNKUbb"
      }
    },
    {
      "cell_type": "code",
      "source": [
        "x.ndim"
      ],
      "metadata": {
        "colab": {
          "base_uri": "https://localhost:8080/"
        },
        "id": "DldSbt67J-9x",
        "outputId": "4b6ecc9a-e317-4394-d9d8-0fd5bd84f872"
      },
      "execution_count": 14,
      "outputs": [
        {
          "output_type": "execute_result",
          "data": {
            "text/plain": [
              "2"
            ]
          },
          "metadata": {},
          "execution_count": 14
        }
      ]
    },
    {
      "cell_type": "code",
      "source": [
        "x.shape"
      ],
      "metadata": {
        "colab": {
          "base_uri": "https://localhost:8080/"
        },
        "id": "une9NdKCKNBv",
        "outputId": "304c4b4b-bf68-4fe6-8ad4-7a18ce78d284"
      },
      "execution_count": 15,
      "outputs": [
        {
          "output_type": "execute_result",
          "data": {
            "text/plain": [
              "(2, 2)"
            ]
          },
          "metadata": {},
          "execution_count": 15
        }
      ]
    },
    {
      "cell_type": "code",
      "source": [
        "x.size"
      ],
      "metadata": {
        "colab": {
          "base_uri": "https://localhost:8080/"
        },
        "id": "v9ccHd_zKOBq",
        "outputId": "5005968a-99f7-462e-c805-83d63c115998"
      },
      "execution_count": 16,
      "outputs": [
        {
          "output_type": "execute_result",
          "data": {
            "text/plain": [
              "4"
            ]
          },
          "metadata": {},
          "execution_count": 16
        }
      ]
    },
    {
      "cell_type": "code",
      "source": [
        "x.dtype"
      ],
      "metadata": {
        "colab": {
          "base_uri": "https://localhost:8080/"
        },
        "id": "Z-zzx9EgKP5u",
        "outputId": "1152d4ff-98f1-4947-928c-9776dba2a510"
      },
      "execution_count": 17,
      "outputs": [
        {
          "output_type": "execute_result",
          "data": {
            "text/plain": [
              "dtype('int64')"
            ]
          },
          "metadata": {},
          "execution_count": 17
        }
      ]
    },
    {
      "cell_type": "code",
      "source": [
        "x = np.array([[1, 2, 3], [10, 9, 8]])\n",
        "x.shape"
      ],
      "metadata": {
        "colab": {
          "base_uri": "https://localhost:8080/"
        },
        "id": "23ZNmmjeKTgZ",
        "outputId": "3799833b-f43f-4a2d-d3f9-f1a83dcd6efd"
      },
      "execution_count": 18,
      "outputs": [
        {
          "output_type": "execute_result",
          "data": {
            "text/plain": [
              "(2, 3)"
            ]
          },
          "metadata": {},
          "execution_count": 18
        }
      ]
    },
    {
      "cell_type": "markdown",
      "source": [
        "3D Array"
      ],
      "metadata": {
        "id": "-HgeezA3LfFg"
      }
    },
    {
      "cell_type": "code",
      "source": [
        "x = np.array(\n",
        "    [[[1, 2, 4],\n",
        "    [1, 2, 6]],\n",
        "     \n",
        "    [[5, 6, 7],\n",
        "     [8, 7, 6]],\n",
        "    \n",
        "    [[7, 8, 9],\n",
        "     [7, 8, 7]]]\n",
        ")\n",
        "x"
      ],
      "metadata": {
        "colab": {
          "base_uri": "https://localhost:8080/"
        },
        "id": "by7_eKy7LI8T",
        "outputId": "c53d2e31-e077-4b0b-926f-e915a734ff39"
      },
      "execution_count": 19,
      "outputs": [
        {
          "output_type": "execute_result",
          "data": {
            "text/plain": [
              "array([[[1, 2, 4],\n",
              "        [1, 2, 6]],\n",
              "\n",
              "       [[5, 6, 7],\n",
              "        [8, 7, 6]],\n",
              "\n",
              "       [[7, 8, 9],\n",
              "        [7, 8, 7]]])"
            ]
          },
          "metadata": {},
          "execution_count": 19
        }
      ]
    },
    {
      "cell_type": "markdown",
      "source": [
        "- attributes"
      ],
      "metadata": {
        "id": "wPt4CkLZMf3b"
      }
    },
    {
      "cell_type": "code",
      "source": [
        "x.ndim"
      ],
      "metadata": {
        "colab": {
          "base_uri": "https://localhost:8080/"
        },
        "id": "ySikA4f5MKMu",
        "outputId": "15ce89c5-0459-4791-d1ba-b5376b8a3146"
      },
      "execution_count": 20,
      "outputs": [
        {
          "output_type": "execute_result",
          "data": {
            "text/plain": [
              "3"
            ]
          },
          "metadata": {},
          "execution_count": 20
        }
      ]
    },
    {
      "cell_type": "code",
      "source": [
        "x.shape"
      ],
      "metadata": {
        "colab": {
          "base_uri": "https://localhost:8080/"
        },
        "id": "IQIUb93dMjgk",
        "outputId": "e157067e-1bd9-4c3b-d085-543d2495062f"
      },
      "execution_count": 21,
      "outputs": [
        {
          "output_type": "execute_result",
          "data": {
            "text/plain": [
              "(3, 2, 3)"
            ]
          },
          "metadata": {},
          "execution_count": 21
        }
      ]
    },
    {
      "cell_type": "code",
      "source": [
        "x.size"
      ],
      "metadata": {
        "colab": {
          "base_uri": "https://localhost:8080/"
        },
        "id": "5MK6z--UMkcs",
        "outputId": "f288b70e-43bc-473c-e83e-56e16fd7faff"
      },
      "execution_count": 22,
      "outputs": [
        {
          "output_type": "execute_result",
          "data": {
            "text/plain": [
              "18"
            ]
          },
          "metadata": {},
          "execution_count": 22
        }
      ]
    },
    {
      "cell_type": "markdown",
      "source": [
        "Typy danych"
      ],
      "metadata": {
        "id": "JBilRq6yVKqR"
      }
    },
    {
      "cell_type": "code",
      "source": [
        "y = np.array([1, 2, 3])\n",
        "y.dtype"
      ],
      "metadata": {
        "colab": {
          "base_uri": "https://localhost:8080/"
        },
        "id": "RPutQTIqMl7T",
        "outputId": "117ed811-d605-4d95-ca75-6fbfdf228fb7"
      },
      "execution_count": 23,
      "outputs": [
        {
          "output_type": "execute_result",
          "data": {
            "text/plain": [
              "dtype('int64')"
            ]
          },
          "metadata": {},
          "execution_count": 23
        }
      ]
    },
    {
      "cell_type": "code",
      "source": [
        "y = np.array([1.1, 2.2, 3.3])\n",
        "y.dtype"
      ],
      "metadata": {
        "colab": {
          "base_uri": "https://localhost:8080/"
        },
        "id": "h7QBLS3BVWnL",
        "outputId": "1f5ddb04-224d-4609-e20b-c4d07f7bfa3f"
      },
      "execution_count": 24,
      "outputs": [
        {
          "output_type": "execute_result",
          "data": {
            "text/plain": [
              "dtype('float64')"
            ]
          },
          "metadata": {},
          "execution_count": 24
        }
      ]
    },
    {
      "cell_type": "code",
      "source": [
        "y = np.array([1, 2, 3], dtype=float)\n",
        "print(y)\n",
        "y.dtype"
      ],
      "metadata": {
        "colab": {
          "base_uri": "https://localhost:8080/"
        },
        "id": "PFS7K86FVb0F",
        "outputId": "6a149305-15e6-47d6-d4ba-36420f49e194"
      },
      "execution_count": 25,
      "outputs": [
        {
          "output_type": "stream",
          "name": "stdout",
          "text": [
            "[1. 2. 3.]\n"
          ]
        },
        {
          "output_type": "execute_result",
          "data": {
            "text/plain": [
              "dtype('float64')"
            ]
          },
          "metadata": {},
          "execution_count": 25
        }
      ]
    },
    {
      "cell_type": "code",
      "source": [
        "y = np.array([1, 2, 3], dtype=complex)\n",
        "print(y)\n",
        "y.dtype"
      ],
      "metadata": {
        "colab": {
          "base_uri": "https://localhost:8080/"
        },
        "id": "WRAe5MtTVlZL",
        "outputId": "5b89fa56-d10a-4bcb-9e84-78e8ae0fa04f"
      },
      "execution_count": 26,
      "outputs": [
        {
          "output_type": "stream",
          "name": "stdout",
          "text": [
            "[1.+0.j 2.+0.j 3.+0.j]\n"
          ]
        },
        {
          "output_type": "execute_result",
          "data": {
            "text/plain": [
              "dtype('complex128')"
            ]
          },
          "metadata": {},
          "execution_count": 26
        }
      ]
    },
    {
      "cell_type": "code",
      "source": [
        "y = np.array([1.1, 2.2, 2.7, 3.3], dtype=int)\n",
        "print(y)\n",
        "y.dtype"
      ],
      "metadata": {
        "colab": {
          "base_uri": "https://localhost:8080/"
        },
        "id": "E8FzuX9-WEI4",
        "outputId": "1ca7af54-0ea4-454a-b8c6-e11059caf8a7"
      },
      "execution_count": 27,
      "outputs": [
        {
          "output_type": "stream",
          "name": "stdout",
          "text": [
            "[1 2 2 3]\n"
          ]
        },
        {
          "output_type": "execute_result",
          "data": {
            "text/plain": [
              "dtype('int64')"
            ]
          },
          "metadata": {},
          "execution_count": 27
        }
      ]
    },
    {
      "cell_type": "code",
      "source": [
        "y = np.array([True, False])\n",
        "print(y)\n",
        "y.dtype"
      ],
      "metadata": {
        "colab": {
          "base_uri": "https://localhost:8080/"
        },
        "id": "M6dIvn25XFNj",
        "outputId": "99b3c5a3-d289-4ab9-b0ed-95ce1cd8c38e"
      },
      "execution_count": 28,
      "outputs": [
        {
          "output_type": "stream",
          "name": "stdout",
          "text": [
            "[ True False]\n"
          ]
        },
        {
          "output_type": "execute_result",
          "data": {
            "text/plain": [
              "dtype('bool')"
            ]
          },
          "metadata": {},
          "execution_count": 28
        }
      ]
    },
    {
      "cell_type": "code",
      "source": [
        "y = np.array([1, 23, 104], dtype=np.int8)\n",
        "y.dtype"
      ],
      "metadata": {
        "colab": {
          "base_uri": "https://localhost:8080/"
        },
        "id": "Y6UVh30xbhxZ",
        "outputId": "58173b98-4cf0-42ef-f58b-fd737d08ff0d"
      },
      "execution_count": 29,
      "outputs": [
        {
          "output_type": "execute_result",
          "data": {
            "text/plain": [
              "dtype('int8')"
            ]
          },
          "metadata": {},
          "execution_count": 29
        }
      ]
    },
    {
      "cell_type": "code",
      "source": [
        "y = np.array([1, 23, 104], dtype=np.uint8)\n",
        "y.dtype"
      ],
      "metadata": {
        "colab": {
          "base_uri": "https://localhost:8080/"
        },
        "id": "WaDsJZPIcc3g",
        "outputId": "385c2f08-b0a2-417c-ba20-7f24de882ef8"
      },
      "execution_count": 30,
      "outputs": [
        {
          "output_type": "execute_result",
          "data": {
            "text/plain": [
              "dtype('uint8')"
            ]
          },
          "metadata": {},
          "execution_count": 30
        }
      ]
    },
    {
      "cell_type": "markdown",
      "source": [
        "# **Creation of arrays**"
      ],
      "metadata": {
        "id": "-6qeEw-HdaV6"
      }
    },
    {
      "cell_type": "code",
      "source": [
        "np.zeros(shape=(4, 10))"
      ],
      "metadata": {
        "colab": {
          "base_uri": "https://localhost:8080/"
        },
        "id": "oAMkz_t7d-6B",
        "outputId": "bed6b567-7e57-4c35-f71d-d84e6a2f2390"
      },
      "execution_count": 31,
      "outputs": [
        {
          "output_type": "execute_result",
          "data": {
            "text/plain": [
              "array([[0., 0., 0., 0., 0., 0., 0., 0., 0., 0.],\n",
              "       [0., 0., 0., 0., 0., 0., 0., 0., 0., 0.],\n",
              "       [0., 0., 0., 0., 0., 0., 0., 0., 0., 0.],\n",
              "       [0., 0., 0., 0., 0., 0., 0., 0., 0., 0.]])"
            ]
          },
          "metadata": {},
          "execution_count": 31
        }
      ]
    },
    {
      "cell_type": "code",
      "source": [
        "np.zeros(shape=(4, 10), dtype='int')"
      ],
      "metadata": {
        "colab": {
          "base_uri": "https://localhost:8080/"
        },
        "id": "3TlD4CvTecLP",
        "outputId": "29cdc475-cda8-48e1-90ba-24b8c1d9f4b6"
      },
      "execution_count": 32,
      "outputs": [
        {
          "output_type": "execute_result",
          "data": {
            "text/plain": [
              "array([[0, 0, 0, 0, 0, 0, 0, 0, 0, 0],\n",
              "       [0, 0, 0, 0, 0, 0, 0, 0, 0, 0],\n",
              "       [0, 0, 0, 0, 0, 0, 0, 0, 0, 0],\n",
              "       [0, 0, 0, 0, 0, 0, 0, 0, 0, 0]])"
            ]
          },
          "metadata": {},
          "execution_count": 32
        }
      ]
    },
    {
      "cell_type": "code",
      "source": [
        "np.ones(shape=(5, 5), dtype='int')"
      ],
      "metadata": {
        "colab": {
          "base_uri": "https://localhost:8080/"
        },
        "id": "EcOgXAT3ewL3",
        "outputId": "4b1256eb-831f-4210-d8ce-2050446b4d86"
      },
      "execution_count": 33,
      "outputs": [
        {
          "output_type": "execute_result",
          "data": {
            "text/plain": [
              "array([[1, 1, 1, 1, 1],\n",
              "       [1, 1, 1, 1, 1],\n",
              "       [1, 1, 1, 1, 1],\n",
              "       [1, 1, 1, 1, 1],\n",
              "       [1, 1, 1, 1, 1]])"
            ]
          },
          "metadata": {},
          "execution_count": 33
        }
      ]
    },
    {
      "cell_type": "code",
      "source": [
        "np.full(shape=(3, 3), fill_value=4, dtype='int')"
      ],
      "metadata": {
        "colab": {
          "base_uri": "https://localhost:8080/"
        },
        "id": "bHC3TKwCfPSU",
        "outputId": "907e7f11-10dd-48c6-e066-bad9310e400f"
      },
      "execution_count": 34,
      "outputs": [
        {
          "output_type": "execute_result",
          "data": {
            "text/plain": [
              "array([[4, 4, 4],\n",
              "       [4, 4, 4],\n",
              "       [4, 4, 4]])"
            ]
          },
          "metadata": {},
          "execution_count": 34
        }
      ]
    },
    {
      "cell_type": "code",
      "source": [
        "np.arange(10)"
      ],
      "metadata": {
        "colab": {
          "base_uri": "https://localhost:8080/"
        },
        "id": "xRUt2Flzfn9n",
        "outputId": "b4f54c52-c0a2-486a-bf30-f2daab70d0c3"
      },
      "execution_count": 36,
      "outputs": [
        {
          "output_type": "execute_result",
          "data": {
            "text/plain": [
              "array([0, 1, 2, 3, 4, 5, 6, 7, 8, 9])"
            ]
          },
          "metadata": {},
          "execution_count": 36
        }
      ]
    },
    {
      "cell_type": "code",
      "source": [
        "np.arange(start=5, stop=10)"
      ],
      "metadata": {
        "colab": {
          "base_uri": "https://localhost:8080/"
        },
        "id": "4NOAnvGHgXAx",
        "outputId": "a66bf88f-0b93-48a2-b705-d468d255ec41"
      },
      "execution_count": 37,
      "outputs": [
        {
          "output_type": "execute_result",
          "data": {
            "text/plain": [
              "array([5, 6, 7, 8, 9])"
            ]
          },
          "metadata": {},
          "execution_count": 37
        }
      ]
    },
    {
      "cell_type": "code",
      "source": [
        "np.arange(start=10, stop=100, step=10)"
      ],
      "metadata": {
        "colab": {
          "base_uri": "https://localhost:8080/"
        },
        "id": "AfhALDlqgeEI",
        "outputId": "64f5a403-67dc-4572-f89b-aa47692fba5b"
      },
      "execution_count": 38,
      "outputs": [
        {
          "output_type": "execute_result",
          "data": {
            "text/plain": [
              "array([10, 20, 30, 40, 50, 60, 70, 80, 90])"
            ]
          },
          "metadata": {},
          "execution_count": 38
        }
      ]
    },
    {
      "cell_type": "code",
      "source": [
        "np.arange(start=100, stop=10, step=-10)"
      ],
      "metadata": {
        "colab": {
          "base_uri": "https://localhost:8080/"
        },
        "id": "VRxFjyangtjT",
        "outputId": "4fd1ebb7-71ae-4778-81ba-13eb46f51b88"
      },
      "execution_count": 39,
      "outputs": [
        {
          "output_type": "execute_result",
          "data": {
            "text/plain": [
              "array([100,  90,  80,  70,  60,  50,  40,  30,  20])"
            ]
          },
          "metadata": {},
          "execution_count": 39
        }
      ]
    },
    {
      "cell_type": "code",
      "source": [
        "np.arange(start=0, stop=1, step=0.05)"
      ],
      "metadata": {
        "colab": {
          "base_uri": "https://localhost:8080/"
        },
        "id": "x2dMo3FVjgbf",
        "outputId": "fe1de028-0228-42b1-9d90-02a6fec6c4dd"
      },
      "execution_count": 40,
      "outputs": [
        {
          "output_type": "execute_result",
          "data": {
            "text/plain": [
              "array([0.  , 0.05, 0.1 , 0.15, 0.2 , 0.25, 0.3 , 0.35, 0.4 , 0.45, 0.5 ,\n",
              "       0.55, 0.6 , 0.65, 0.7 , 0.75, 0.8 , 0.85, 0.9 , 0.95])"
            ]
          },
          "metadata": {},
          "execution_count": 40
        }
      ]
    },
    {
      "cell_type": "code",
      "source": [
        "np.linspace(start=0, stop=1, num=11)"
      ],
      "metadata": {
        "colab": {
          "base_uri": "https://localhost:8080/"
        },
        "id": "juEA9J2qjxGw",
        "outputId": "07d98f31-1ed4-4d15-eb5d-40a9bfa82b6a"
      },
      "execution_count": 41,
      "outputs": [
        {
          "output_type": "execute_result",
          "data": {
            "text/plain": [
              "array([0. , 0.1, 0.2, 0.3, 0.4, 0.5, 0.6, 0.7, 0.8, 0.9, 1. ])"
            ]
          },
          "metadata": {},
          "execution_count": 41
        }
      ]
    },
    {
      "cell_type": "code",
      "source": [
        "y = np.arange(15)\n",
        "y"
      ],
      "metadata": {
        "colab": {
          "base_uri": "https://localhost:8080/"
        },
        "id": "SdFbrzH8kHHL",
        "outputId": "211fe109-f467-4147-8257-e854d2393497"
      },
      "execution_count": 43,
      "outputs": [
        {
          "output_type": "execute_result",
          "data": {
            "text/plain": [
              "array([ 0,  1,  2,  3,  4,  5,  6,  7,  8,  9, 10, 11, 12, 13, 14])"
            ]
          },
          "metadata": {},
          "execution_count": 43
        }
      ]
    },
    {
      "cell_type": "code",
      "source": [
        "y.reshape([3,5])"
      ],
      "metadata": {
        "colab": {
          "base_uri": "https://localhost:8080/"
        },
        "id": "IY4piDaQkl15",
        "outputId": "927b95b7-37bd-45b7-9e98-0e1884285d0d"
      },
      "execution_count": 46,
      "outputs": [
        {
          "output_type": "execute_result",
          "data": {
            "text/plain": [
              "array([[ 0,  1,  2,  3,  4],\n",
              "       [ 5,  6,  7,  8,  9],\n",
              "       [10, 11, 12, 13, 14]])"
            ]
          },
          "metadata": {},
          "execution_count": 46
        }
      ]
    },
    {
      "cell_type": "code",
      "source": [
        "y.reshape([3, -1])"
      ],
      "metadata": {
        "colab": {
          "base_uri": "https://localhost:8080/"
        },
        "id": "ABgVTteOksER",
        "outputId": "8c83396c-31b8-411c-95dc-267b01d3f112"
      },
      "execution_count": 47,
      "outputs": [
        {
          "output_type": "execute_result",
          "data": {
            "text/plain": [
              "array([[ 0,  1,  2,  3,  4],\n",
              "       [ 5,  6,  7,  8,  9],\n",
              "       [10, 11, 12, 13, 14]])"
            ]
          },
          "metadata": {},
          "execution_count": 47
        }
      ]
    },
    {
      "cell_type": "code",
      "source": [
        "y.reshape([-1, 3])"
      ],
      "metadata": {
        "colab": {
          "base_uri": "https://localhost:8080/"
        },
        "id": "eE65bdfuk5g8",
        "outputId": "81d0a3e7-8045-43cd-8ed7-54c66d43b545"
      },
      "execution_count": 48,
      "outputs": [
        {
          "output_type": "execute_result",
          "data": {
            "text/plain": [
              "array([[ 0,  1,  2],\n",
              "       [ 3,  4,  5],\n",
              "       [ 6,  7,  8],\n",
              "       [ 9, 10, 11],\n",
              "       [12, 13, 14]])"
            ]
          },
          "metadata": {},
          "execution_count": 48
        }
      ]
    },
    {
      "cell_type": "markdown",
      "source": [
        "# **Basic operations on arrays**"
      ],
      "metadata": {
        "id": "SwRzdsNWlcpX"
      }
    },
    {
      "cell_type": "markdown",
      "source": [
        "1D arrays"
      ],
      "metadata": {
        "id": "7dVPDZW5wqei"
      }
    },
    {
      "cell_type": "code",
      "source": [
        "A = np.array([3, 1, 4, 2])\n",
        "B = np.array([3, -1, 3, 2])\n",
        "print(A)\n",
        "print(B)"
      ],
      "metadata": {
        "colab": {
          "base_uri": "https://localhost:8080/"
        },
        "id": "OX7Fx1HYlpD5",
        "outputId": "9a4827b2-ac2b-4af5-d6c7-4dfaef8508f3"
      },
      "execution_count": 49,
      "outputs": [
        {
          "output_type": "stream",
          "name": "stdout",
          "text": [
            "[3 1 4 2]\n",
            "[ 3 -1  3  2]\n"
          ]
        }
      ]
    },
    {
      "cell_type": "code",
      "source": [
        "A + B"
      ],
      "metadata": {
        "colab": {
          "base_uri": "https://localhost:8080/"
        },
        "id": "KefmMt2Tugoo",
        "outputId": "c948c46a-fc75-4f53-df9a-52420cf46bba"
      },
      "execution_count": 54,
      "outputs": [
        {
          "output_type": "execute_result",
          "data": {
            "text/plain": [
              "array([6, 0, 7, 4])"
            ]
          },
          "metadata": {},
          "execution_count": 54
        }
      ]
    },
    {
      "cell_type": "code",
      "source": [
        "np.add( A , B)"
      ],
      "metadata": {
        "colab": {
          "base_uri": "https://localhost:8080/"
        },
        "id": "OlBmP5nhv6iR",
        "outputId": "02f1df19-cb88-4803-8cc9-5099da301c9e"
      },
      "execution_count": 58,
      "outputs": [
        {
          "output_type": "execute_result",
          "data": {
            "text/plain": [
              "array([6, 0, 7, 4])"
            ]
          },
          "metadata": {},
          "execution_count": 58
        }
      ]
    },
    {
      "cell_type": "code",
      "source": [
        "A - B"
      ],
      "metadata": {
        "colab": {
          "base_uri": "https://localhost:8080/"
        },
        "id": "2F1-Zpr6uhyj",
        "outputId": "6959b0b0-fadc-41af-c318-cf976eaff3cc"
      },
      "execution_count": 51,
      "outputs": [
        {
          "output_type": "execute_result",
          "data": {
            "text/plain": [
              "array([0, 2, 1, 0])"
            ]
          },
          "metadata": {},
          "execution_count": 51
        }
      ]
    },
    {
      "cell_type": "code",
      "source": [
        "np.subtract(A, B)"
      ],
      "metadata": {
        "colab": {
          "base_uri": "https://localhost:8080/"
        },
        "id": "lfkHvvWNv-Fl",
        "outputId": "a306e55e-18c7-4bac-d27e-b169491eef22"
      },
      "execution_count": 59,
      "outputs": [
        {
          "output_type": "execute_result",
          "data": {
            "text/plain": [
              "array([0, 2, 1, 0])"
            ]
          },
          "metadata": {},
          "execution_count": 59
        }
      ]
    },
    {
      "cell_type": "code",
      "source": [
        "A * B"
      ],
      "metadata": {
        "colab": {
          "base_uri": "https://localhost:8080/"
        },
        "id": "WJoVCkwsvKx3",
        "outputId": "7ee0ccfc-fc0e-4160-b0d4-aebee4582728"
      },
      "execution_count": 52,
      "outputs": [
        {
          "output_type": "execute_result",
          "data": {
            "text/plain": [
              "array([ 9, -1, 12,  4])"
            ]
          },
          "metadata": {},
          "execution_count": 52
        }
      ]
    },
    {
      "cell_type": "code",
      "source": [
        "np.multiply(A, B)"
      ],
      "metadata": {
        "colab": {
          "base_uri": "https://localhost:8080/"
        },
        "id": "vam8PVRCwEBz",
        "outputId": "27b371c7-ffd1-45e3-84b7-a626d3995a0d"
      },
      "execution_count": 60,
      "outputs": [
        {
          "output_type": "execute_result",
          "data": {
            "text/plain": [
              "array([ 9, -1, 12,  4])"
            ]
          },
          "metadata": {},
          "execution_count": 60
        }
      ]
    },
    {
      "cell_type": "code",
      "source": [
        "A / B"
      ],
      "metadata": {
        "colab": {
          "base_uri": "https://localhost:8080/"
        },
        "id": "AUxhrC2vvNpI",
        "outputId": "316c0976-3736-44f4-dd61-60087bd020e5"
      },
      "execution_count": 53,
      "outputs": [
        {
          "output_type": "execute_result",
          "data": {
            "text/plain": [
              "array([ 1.        , -1.        ,  1.33333333,  1.        ])"
            ]
          },
          "metadata": {},
          "execution_count": 53
        }
      ]
    },
    {
      "cell_type": "code",
      "source": [
        "np.divide(A, B)"
      ],
      "metadata": {
        "colab": {
          "base_uri": "https://localhost:8080/"
        },
        "id": "GPaRu5jSwJ21",
        "outputId": "eacccf35-35b4-4dbb-b957-657e989e2d15"
      },
      "execution_count": 61,
      "outputs": [
        {
          "output_type": "execute_result",
          "data": {
            "text/plain": [
              "array([ 1.        , -1.        ,  1.33333333,  1.        ])"
            ]
          },
          "metadata": {},
          "execution_count": 61
        }
      ]
    },
    {
      "cell_type": "code",
      "source": [
        "A + 3"
      ],
      "metadata": {
        "colab": {
          "base_uri": "https://localhost:8080/"
        },
        "id": "NNHKdn7RvO28",
        "outputId": "2d688227-c771-4bbf-94b2-297eecef0109"
      },
      "execution_count": 55,
      "outputs": [
        {
          "output_type": "execute_result",
          "data": {
            "text/plain": [
              "array([6, 4, 7, 5])"
            ]
          },
          "metadata": {},
          "execution_count": 55
        }
      ]
    },
    {
      "cell_type": "code",
      "source": [
        "A * 2"
      ],
      "metadata": {
        "colab": {
          "base_uri": "https://localhost:8080/"
        },
        "id": "xp-nuSMKvmMo",
        "outputId": "bac2b6fe-26ac-43a9-fe39-f964d3d773ee"
      },
      "execution_count": 56,
      "outputs": [
        {
          "output_type": "execute_result",
          "data": {
            "text/plain": [
              "array([6, 2, 8, 4])"
            ]
          },
          "metadata": {},
          "execution_count": 56
        }
      ]
    },
    {
      "cell_type": "code",
      "source": [
        "A + 3 * B"
      ],
      "metadata": {
        "colab": {
          "base_uri": "https://localhost:8080/"
        },
        "id": "GXudCy9fvnYG",
        "outputId": "18e46b45-2984-4886-d6df-7bd289047277"
      },
      "execution_count": 57,
      "outputs": [
        {
          "output_type": "execute_result",
          "data": {
            "text/plain": [
              "array([12, -2, 13,  8])"
            ]
          },
          "metadata": {},
          "execution_count": 57
        }
      ]
    },
    {
      "cell_type": "markdown",
      "source": [
        "2D arrays"
      ],
      "metadata": {
        "id": "qX4tKzw4wwMP"
      }
    },
    {
      "cell_type": "code",
      "source": [
        "X = np.array([[1, 3], [-2, 0]])\n",
        "Y = np.array([[6, 0], [-1, 2]])\n",
        "print(X, '\\n')\n",
        "print(Y)"
      ],
      "metadata": {
        "colab": {
          "base_uri": "https://localhost:8080/"
        },
        "id": "mhO7155Ivr0Y",
        "outputId": "eafdc5af-b3de-4360-a86a-c92a06650797"
      },
      "execution_count": 67,
      "outputs": [
        {
          "output_type": "stream",
          "name": "stdout",
          "text": [
            "[[ 1  3]\n",
            " [-2  0]] \n",
            "\n",
            "[[ 6  0]\n",
            " [-1  2]]\n"
          ]
        }
      ]
    },
    {
      "cell_type": "code",
      "source": [
        "X * Y"
      ],
      "metadata": {
        "colab": {
          "base_uri": "https://localhost:8080/"
        },
        "id": "8UOhShrnxSwk",
        "outputId": "77c8dd64-0a7e-46ad-b175-31fe596de3f7"
      },
      "execution_count": 68,
      "outputs": [
        {
          "output_type": "execute_result",
          "data": {
            "text/plain": [
              "array([[6, 0],\n",
              "       [2, 0]])"
            ]
          },
          "metadata": {},
          "execution_count": 68
        }
      ]
    },
    {
      "cell_type": "code",
      "source": [
        "np.dot(X, Y)"
      ],
      "metadata": {
        "colab": {
          "base_uri": "https://localhost:8080/"
        },
        "id": "s4k9mDDdyOzl",
        "outputId": "c38717d1-03be-4f04-9832-eb00346aa1a4"
      },
      "execution_count": 69,
      "outputs": [
        {
          "output_type": "execute_result",
          "data": {
            "text/plain": [
              "array([[  3,   6],\n",
              "       [-12,   0]])"
            ]
          },
          "metadata": {},
          "execution_count": 69
        }
      ]
    },
    {
      "cell_type": "code",
      "source": [
        "X.dot(Y)"
      ],
      "metadata": {
        "colab": {
          "base_uri": "https://localhost:8080/"
        },
        "id": "PwyDiNery2Ed",
        "outputId": "2cd3ce9c-5e81-46c8-c83d-8cbcdab4385b"
      },
      "execution_count": 70,
      "outputs": [
        {
          "output_type": "execute_result",
          "data": {
            "text/plain": [
              "array([[  3,   6],\n",
              "       [-12,   0]])"
            ]
          },
          "metadata": {},
          "execution_count": 70
        }
      ]
    },
    {
      "cell_type": "code",
      "source": [
        "X @ Y"
      ],
      "metadata": {
        "colab": {
          "base_uri": "https://localhost:8080/"
        },
        "id": "IbPG-tXB24ze",
        "outputId": "e68aa1e0-729c-4f13-d3f1-38d5f866b5fe"
      },
      "execution_count": 71,
      "outputs": [
        {
          "output_type": "execute_result",
          "data": {
            "text/plain": [
              "array([[  3,   6],\n",
              "       [-12,   0]])"
            ]
          },
          "metadata": {},
          "execution_count": 71
        }
      ]
    },
    {
      "cell_type": "markdown",
      "source": [
        "# **Generating pseudo random numbers**"
      ],
      "metadata": {
        "id": "BR8wfRsv3eIV"
      }
    },
    {
      "cell_type": "code",
      "source": [
        "np.random.seed(0)"
      ],
      "metadata": {
        "id": "0EK5YLn03mVr"
      },
      "execution_count": 72,
      "outputs": []
    },
    {
      "cell_type": "code",
      "source": [
        "np.random.randn()"
      ],
      "metadata": {
        "colab": {
          "base_uri": "https://localhost:8080/"
        },
        "id": "Lx2IAiUK7tcp",
        "outputId": "0c606061-8fc9-461e-ab2b-61dfc12a594f"
      },
      "execution_count": 74,
      "outputs": [
        {
          "output_type": "execute_result",
          "data": {
            "text/plain": [
              "1.764052345967664"
            ]
          },
          "metadata": {},
          "execution_count": 74
        }
      ]
    },
    {
      "cell_type": "code",
      "source": [
        "np.random.randn(10)"
      ],
      "metadata": {
        "colab": {
          "base_uri": "https://localhost:8080/"
        },
        "id": "iBpnja1u7ytt",
        "outputId": "16b1e175-5987-484e-9ece-39916205a077"
      },
      "execution_count": 75,
      "outputs": [
        {
          "output_type": "execute_result",
          "data": {
            "text/plain": [
              "array([ 0.40015721,  0.97873798,  2.2408932 ,  1.86755799, -0.97727788,\n",
              "        0.95008842, -0.15135721, -0.10321885,  0.4105985 ,  0.14404357])"
            ]
          },
          "metadata": {},
          "execution_count": 75
        }
      ]
    },
    {
      "cell_type": "code",
      "source": [
        "np.random.randn(10, 4)"
      ],
      "metadata": {
        "colab": {
          "base_uri": "https://localhost:8080/"
        },
        "id": "UvxJ5boC7764",
        "outputId": "460f76e6-a366-4c5a-faa6-b77de0d0e417"
      },
      "execution_count": 76,
      "outputs": [
        {
          "output_type": "execute_result",
          "data": {
            "text/plain": [
              "array([[ 1.45427351,  0.76103773,  0.12167502,  0.44386323],\n",
              "       [ 0.33367433,  1.49407907, -0.20515826,  0.3130677 ],\n",
              "       [-0.85409574, -2.55298982,  0.6536186 ,  0.8644362 ],\n",
              "       [-0.74216502,  2.26975462, -1.45436567,  0.04575852],\n",
              "       [-0.18718385,  1.53277921,  1.46935877,  0.15494743],\n",
              "       [ 0.37816252, -0.88778575, -1.98079647, -0.34791215],\n",
              "       [ 0.15634897,  1.23029068,  1.20237985, -0.38732682],\n",
              "       [-0.30230275, -1.04855297, -1.42001794, -1.70627019],\n",
              "       [ 1.9507754 , -0.50965218, -0.4380743 , -1.25279536],\n",
              "       [ 0.77749036, -1.61389785, -0.21274028, -0.89546656]])"
            ]
          },
          "metadata": {},
          "execution_count": 76
        }
      ]
    },
    {
      "cell_type": "code",
      "source": [
        "np.random.rand()"
      ],
      "metadata": {
        "colab": {
          "base_uri": "https://localhost:8080/"
        },
        "id": "r_CMaiHO8Xnj",
        "outputId": "6f69d48e-0da5-4799-a7a6-8e586d03ed29"
      },
      "execution_count": 77,
      "outputs": [
        {
          "output_type": "execute_result",
          "data": {
            "text/plain": [
              "0.1965823616800535"
            ]
          },
          "metadata": {},
          "execution_count": 77
        }
      ]
    },
    {
      "cell_type": "code",
      "source": [
        "np.random.rand(10)"
      ],
      "metadata": {
        "colab": {
          "base_uri": "https://localhost:8080/"
        },
        "id": "frXCQYS08bF5",
        "outputId": "51061edf-7135-4b9c-9e87-b9030cb96129"
      },
      "execution_count": 78,
      "outputs": [
        {
          "output_type": "execute_result",
          "data": {
            "text/plain": [
              "array([0.36872517, 0.82099323, 0.09710128, 0.83794491, 0.09609841,\n",
              "       0.97645947, 0.4686512 , 0.97676109, 0.60484552, 0.73926358])"
            ]
          },
          "metadata": {},
          "execution_count": 78
        }
      ]
    },
    {
      "cell_type": "code",
      "source": [
        "np.random.rand(10, 4)"
      ],
      "metadata": {
        "colab": {
          "base_uri": "https://localhost:8080/"
        },
        "id": "lxeGqA4T8zBa",
        "outputId": "e18eae8e-c3d0-40f5-e9e9-0cff05cf2dc4"
      },
      "execution_count": 79,
      "outputs": [
        {
          "output_type": "execute_result",
          "data": {
            "text/plain": [
              "array([[0.03918779, 0.28280696, 0.12019656, 0.2961402 ],\n",
              "       [0.11872772, 0.31798318, 0.41426299, 0.0641475 ],\n",
              "       [0.69247212, 0.56660145, 0.26538949, 0.52324805],\n",
              "       [0.09394051, 0.5759465 , 0.9292962 , 0.31856895],\n",
              "       [0.66741038, 0.13179786, 0.7163272 , 0.28940609],\n",
              "       [0.18319136, 0.58651293, 0.02010755, 0.82894003],\n",
              "       [0.00469548, 0.67781654, 0.27000797, 0.73519402],\n",
              "       [0.96218855, 0.24875314, 0.57615733, 0.59204193],\n",
              "       [0.57225191, 0.22308163, 0.95274901, 0.44712538],\n",
              "       [0.84640867, 0.69947928, 0.29743695, 0.81379782]])"
            ]
          },
          "metadata": {},
          "execution_count": 79
        }
      ]
    },
    {
      "cell_type": "code",
      "source": [
        "np.random.randint(10)"
      ],
      "metadata": {
        "colab": {
          "base_uri": "https://localhost:8080/"
        },
        "id": "74Qjfzqw82VU",
        "outputId": "034314e4-f107-4384-dadc-152104f5cba6"
      },
      "execution_count": 80,
      "outputs": [
        {
          "output_type": "execute_result",
          "data": {
            "text/plain": [
              "8"
            ]
          },
          "metadata": {},
          "execution_count": 80
        }
      ]
    },
    {
      "cell_type": "code",
      "source": [
        "np.random.randint(low=10, high=101)"
      ],
      "metadata": {
        "colab": {
          "base_uri": "https://localhost:8080/"
        },
        "id": "_OK8Mx4e9OFa",
        "outputId": "0d51bbcd-8510-407f-d7ec-a9a27f24fe8e"
      },
      "execution_count": 83,
      "outputs": [
        {
          "output_type": "execute_result",
          "data": {
            "text/plain": [
              "39"
            ]
          },
          "metadata": {},
          "execution_count": 83
        }
      ]
    },
    {
      "cell_type": "code",
      "source": [
        "np.random.randint(low=10, high=101, size=10)"
      ],
      "metadata": {
        "colab": {
          "base_uri": "https://localhost:8080/"
        },
        "id": "G19SzhmK9Zw7",
        "outputId": "c1260756-97c3-4330-a60f-ce306b9c1cd1"
      },
      "execution_count": 84,
      "outputs": [
        {
          "output_type": "execute_result",
          "data": {
            "text/plain": [
              "array([31, 35, 90, 70, 71, 93, 43, 42, 80, 95])"
            ]
          },
          "metadata": {},
          "execution_count": 84
        }
      ]
    },
    {
      "cell_type": "code",
      "source": [
        "np.random.choice([4, 2, 1, 5, 7])"
      ],
      "metadata": {
        "colab": {
          "base_uri": "https://localhost:8080/"
        },
        "id": "aLgtQJ6y9oVw",
        "outputId": "490276f0-28eb-4d50-fc76-cbc37371bb1e"
      },
      "execution_count": 90,
      "outputs": [
        {
          "output_type": "execute_result",
          "data": {
            "text/plain": [
              "4"
            ]
          },
          "metadata": {},
          "execution_count": 90
        }
      ]
    },
    {
      "cell_type": "code",
      "source": [
        "np.random.choice(['cat', 'dog', 'frog'])"
      ],
      "metadata": {
        "colab": {
          "base_uri": "https://localhost:8080/",
          "height": 35
        },
        "id": "faw6sxYO-J-j",
        "outputId": "2b7ecb7e-af24-45d4-bb89-a869f173bc0d"
      },
      "execution_count": 94,
      "outputs": [
        {
          "output_type": "execute_result",
          "data": {
            "text/plain": [
              "'dog'"
            ],
            "application/vnd.google.colaboratory.intrinsic+json": {
              "type": "string"
            }
          },
          "metadata": {},
          "execution_count": 94
        }
      ]
    },
    {
      "cell_type": "code",
      "source": [
        "data = np.arange(10)\n",
        "data"
      ],
      "metadata": {
        "colab": {
          "base_uri": "https://localhost:8080/"
        },
        "id": "Am8lexX5-bTJ",
        "outputId": "71196a85-628f-4711-de21-49aa27648f18"
      },
      "execution_count": 95,
      "outputs": [
        {
          "output_type": "execute_result",
          "data": {
            "text/plain": [
              "array([0, 1, 2, 3, 4, 5, 6, 7, 8, 9])"
            ]
          },
          "metadata": {},
          "execution_count": 95
        }
      ]
    },
    {
      "cell_type": "code",
      "source": [
        "np.random.shuffle(data)\n",
        "data"
      ],
      "metadata": {
        "colab": {
          "base_uri": "https://localhost:8080/"
        },
        "id": "iRu6eWyV_CEI",
        "outputId": "388dec22-e206-4a33-b7c1-be05d7a054ca"
      },
      "execution_count": 97,
      "outputs": [
        {
          "output_type": "execute_result",
          "data": {
            "text/plain": [
              "array([9, 2, 8, 7, 4, 5, 6, 1, 0, 3])"
            ]
          },
          "metadata": {},
          "execution_count": 97
        }
      ]
    },
    {
      "cell_type": "markdown",
      "source": [
        "# **Basic functions in NumPy**"
      ],
      "metadata": {
        "id": "ahggAqoQleGX"
      }
    },
    {
      "cell_type": "code",
      "source": [
        "np.exp(1)"
      ],
      "metadata": {
        "colab": {
          "base_uri": "https://localhost:8080/"
        },
        "id": "LDI7GO2Jllfm",
        "outputId": "af5f8a1a-fcd3-40d7-f820-b86babbe3060"
      },
      "execution_count": 2,
      "outputs": [
        {
          "output_type": "execute_result",
          "data": {
            "text/plain": [
              "2.718281828459045"
            ]
          },
          "metadata": {},
          "execution_count": 2
        }
      ]
    },
    {
      "cell_type": "code",
      "source": [
        "np.sqrt(9)"
      ],
      "metadata": {
        "colab": {
          "base_uri": "https://localhost:8080/"
        },
        "id": "nM8AEbANl633",
        "outputId": "c5292c15-5d3b-4709-bf20-6f71035deb95"
      },
      "execution_count": 3,
      "outputs": [
        {
          "output_type": "execute_result",
          "data": {
            "text/plain": [
              "3.0"
            ]
          },
          "metadata": {},
          "execution_count": 3
        }
      ]
    },
    {
      "cell_type": "code",
      "source": [
        "np.all([1, 4, 8, 9])"
      ],
      "metadata": {
        "colab": {
          "base_uri": "https://localhost:8080/"
        },
        "id": "JU4CMuvUl9lZ",
        "outputId": "577557be-7791-4e28-e337-88b189063d13"
      },
      "execution_count": 16,
      "outputs": [
        {
          "output_type": "execute_result",
          "data": {
            "text/plain": [
              "True"
            ]
          },
          "metadata": {},
          "execution_count": 16
        }
      ]
    },
    {
      "cell_type": "code",
      "source": [
        "np.any([0, 0, 0, 1])"
      ],
      "metadata": {
        "colab": {
          "base_uri": "https://localhost:8080/"
        },
        "id": "WvvMfQkHmcnb",
        "outputId": "72aa0e1d-11a3-4410-89fc-6c39c1ba189e"
      },
      "execution_count": 15,
      "outputs": [
        {
          "output_type": "execute_result",
          "data": {
            "text/plain": [
              "True"
            ]
          },
          "metadata": {},
          "execution_count": 15
        }
      ]
    },
    {
      "cell_type": "markdown",
      "source": [
        "- to find min/max values:"
      ],
      "metadata": {
        "id": "_4v_eexGwmd1"
      }
    },
    {
      "cell_type": "code",
      "source": [
        "A = np.random.rand(5)\n",
        "A"
      ],
      "metadata": {
        "colab": {
          "base_uri": "https://localhost:8080/"
        },
        "id": "yJkCku44mhEA",
        "outputId": "1bc96725-44cb-4b2d-c4b3-1a504a8dacac"
      },
      "execution_count": 8,
      "outputs": [
        {
          "output_type": "execute_result",
          "data": {
            "text/plain": [
              "array([0.15478154, 0.94943075, 0.16118486, 0.41386018, 0.21552954])"
            ]
          },
          "metadata": {},
          "execution_count": 8
        }
      ]
    },
    {
      "cell_type": "code",
      "source": [
        "np.min(A)"
      ],
      "metadata": {
        "colab": {
          "base_uri": "https://localhost:8080/"
        },
        "id": "h7Xo3mK8yH2y",
        "outputId": "ca5e0a8f-0f45-4a6e-b1da-3c1409bd5dc3"
      },
      "execution_count": 9,
      "outputs": [
        {
          "output_type": "execute_result",
          "data": {
            "text/plain": [
              "0.154781539487032"
            ]
          },
          "metadata": {},
          "execution_count": 9
        }
      ]
    },
    {
      "cell_type": "code",
      "source": [
        "np.max(A)"
      ],
      "metadata": {
        "colab": {
          "base_uri": "https://localhost:8080/"
        },
        "id": "NtpdB7MzzpBA",
        "outputId": "d2f65c89-e229-4f0d-b424-573ba90f203a"
      },
      "execution_count": 10,
      "outputs": [
        {
          "output_type": "execute_result",
          "data": {
            "text/plain": [
              "0.9494307466784287"
            ]
          },
          "metadata": {},
          "execution_count": 10
        }
      ]
    },
    {
      "cell_type": "code",
      "source": [
        "np.argmin(A)"
      ],
      "metadata": {
        "colab": {
          "base_uri": "https://localhost:8080/"
        },
        "id": "lgcau58tzqlU",
        "outputId": "e74c90b9-228f-4664-d42f-fd598dddc022"
      },
      "execution_count": 15,
      "outputs": [
        {
          "output_type": "execute_result",
          "data": {
            "text/plain": [
              "0"
            ]
          },
          "metadata": {},
          "execution_count": 15
        }
      ]
    },
    {
      "cell_type": "code",
      "source": [
        "np.argmax(A)"
      ],
      "metadata": {
        "colab": {
          "base_uri": "https://localhost:8080/"
        },
        "id": "VkkfzVUczyYL",
        "outputId": "18814f06-b7c1-4552-fe12-23315d43fda9"
      },
      "execution_count": 16,
      "outputs": [
        {
          "output_type": "execute_result",
          "data": {
            "text/plain": [
              "1"
            ]
          },
          "metadata": {},
          "execution_count": 16
        }
      ]
    },
    {
      "cell_type": "code",
      "source": [
        "np.argsort(A)"
      ],
      "metadata": {
        "colab": {
          "base_uri": "https://localhost:8080/"
        },
        "id": "GEhvAysWz9E1",
        "outputId": "68c04d10-df4b-477f-ffce-5b6bd8b83d78"
      },
      "execution_count": 17,
      "outputs": [
        {
          "output_type": "execute_result",
          "data": {
            "text/plain": [
              "array([0, 2, 4, 3, 1])"
            ]
          },
          "metadata": {},
          "execution_count": 17
        }
      ]
    },
    {
      "cell_type": "markdown",
      "source": [
        "- Simple statistics:"
      ],
      "metadata": {
        "id": "DQ5F6RqH0ZlX"
      }
    },
    {
      "cell_type": "code",
      "source": [
        "np.mean(A)"
      ],
      "metadata": {
        "colab": {
          "base_uri": "https://localhost:8080/"
        },
        "id": "wYueWy6n0EDg",
        "outputId": "33149b24-739d-4deb-8c3a-cb753df5aa01"
      },
      "execution_count": 18,
      "outputs": [
        {
          "output_type": "execute_result",
          "data": {
            "text/plain": [
              "0.3789573737935005"
            ]
          },
          "metadata": {},
          "execution_count": 18
        }
      ]
    },
    {
      "cell_type": "code",
      "source": [
        "np.median(A)"
      ],
      "metadata": {
        "colab": {
          "base_uri": "https://localhost:8080/"
        },
        "id": "46RCw0g90hoh",
        "outputId": "3babd140-3021-48e8-b0b6-7ed7d9a97c61"
      },
      "execution_count": 19,
      "outputs": [
        {
          "output_type": "execute_result",
          "data": {
            "text/plain": [
              "0.21552953948371512"
            ]
          },
          "metadata": {},
          "execution_count": 19
        }
      ]
    },
    {
      "cell_type": "code",
      "source": [
        "np.std(A)"
      ],
      "metadata": {
        "colab": {
          "base_uri": "https://localhost:8080/"
        },
        "id": "5-QnOgiV0oMu",
        "outputId": "d5b850ad-6311-44e1-c0ab-1617690c2483"
      },
      "execution_count": 20,
      "outputs": [
        {
          "output_type": "execute_result",
          "data": {
            "text/plain": [
              "0.30034859909203393"
            ]
          },
          "metadata": {},
          "execution_count": 20
        }
      ]
    },
    {
      "cell_type": "code",
      "source": [],
      "metadata": {
        "id": "ocM7sMO70pgn"
      },
      "execution_count": null,
      "outputs": []
    }
  ]
}