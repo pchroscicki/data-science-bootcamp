{
  "nbformat": 4,
  "nbformat_minor": 0,
  "metadata": {
    "colab": {
      "provenance": [],
      "toc_visible": true,
      "authorship_tag": "ABX9TyOIFUxRhUzzKoU4G1nBaRoj",
      "include_colab_link": true
    },
    "kernelspec": {
      "name": "python3",
      "display_name": "Python 3"
    },
    "language_info": {
      "name": "python"
    }
  },
  "cells": [
    {
      "cell_type": "markdown",
      "metadata": {
        "id": "view-in-github",
        "colab_type": "text"
      },
      "source": [
        "<a href=\"https://colab.research.google.com/github/pchroscicki/data-science-bootcamp/blob/main/02_data_analysis/01_pandas_intro.ipynb\" target=\"_parent\"><img src=\"https://colab.research.google.com/assets/colab-badge.svg\" alt=\"Open In Colab\"/></a>"
      ]
    },
    {
      "cell_type": "markdown",
      "source": [
        "## **Pandas**"
      ],
      "metadata": {
        "id": "z_87Yf0SHp3f"
      }
    },
    {
      "cell_type": "markdown",
      "source": [
        "Pandas website: https://pandas.pydata.org/"
      ],
      "metadata": {
        "id": "MC_u8W5vHvd1"
      }
    },
    {
      "cell_type": "markdown",
      "source": [
        "Documentation: https://pandas.pydata.org/docs/"
      ],
      "metadata": {
        "id": "XDyN9ylFIgP_"
      }
    },
    {
      "cell_type": "code",
      "execution_count": null,
      "metadata": {
        "id": "XrH5p6fLHWji"
      },
      "outputs": [],
      "source": [
        "# installation\n",
        "pip install pandas"
      ]
    },
    {
      "cell_type": "code",
      "source": [
        "import pandas as pd\n",
        "pd.__version__"
      ],
      "metadata": {
        "colab": {
          "base_uri": "https://localhost:8080/",
          "height": 35
        },
        "id": "QsEe5zrmIvsD",
        "outputId": "3e490b6b-9049-4de6-c8b3-12a38825e56f"
      },
      "execution_count": null,
      "outputs": [
        {
          "output_type": "execute_result",
          "data": {
            "text/plain": [
              "'1.3.5'"
            ],
            "application/vnd.google.colaboratory.intrinsic+json": {
              "type": "string"
            }
          },
          "metadata": {},
          "execution_count": 1
        }
      ]
    },
    {
      "cell_type": "markdown",
      "source": [
        "# Basic data structure: pd.Series"
      ],
      "metadata": {
        "id": "zC-0jCq-JuOz"
      }
    },
    {
      "cell_type": "code",
      "source": [
        "s = pd.Series(data=[3, 2, 4, 6], name='sample')\n",
        "s"
      ],
      "metadata": {
        "colab": {
          "base_uri": "https://localhost:8080/"
        },
        "id": "tFQKLcxeJ78N",
        "outputId": "e3771dcb-eb6c-41b9-9f53-65df3433ffb9"
      },
      "execution_count": null,
      "outputs": [
        {
          "output_type": "execute_result",
          "data": {
            "text/plain": [
              "0    3\n",
              "1    2\n",
              "2    4\n",
              "3    6\n",
              "Name: sample, dtype: int64"
            ]
          },
          "metadata": {},
          "execution_count": 4
        }
      ]
    },
    {
      "cell_type": "code",
      "source": [
        "# to provide alternative index values\n",
        "s = pd.Series(data=[3, 2, 4, 6], index=['a', 'b', 'c', 'd'], name='sample')\n",
        "s"
      ],
      "metadata": {
        "colab": {
          "base_uri": "https://localhost:8080/"
        },
        "id": "7uq-WkNKLNLl",
        "outputId": "cb61f7b6-7a31-4b17-db44-9b369b2b25e4"
      },
      "execution_count": null,
      "outputs": [
        {
          "output_type": "execute_result",
          "data": {
            "text/plain": [
              "a    3\n",
              "b    2\n",
              "c    4\n",
              "d    6\n",
              "Name: sample, dtype: int64"
            ]
          },
          "metadata": {},
          "execution_count": 5
        }
      ]
    },
    {
      "cell_type": "code",
      "source": [
        "# to provide missing data\n",
        "import numpy as np\n",
        "s = pd.Series(data=[3, np.nan, 4, 6], index=['a', 'b', 'c', 'd'], name='sample')\n",
        "s"
      ],
      "metadata": {
        "colab": {
          "base_uri": "https://localhost:8080/"
        },
        "id": "0jdU9dJfL951",
        "outputId": "eb638bca-5b8b-4ba3-c537-6d7e3837bdfa"
      },
      "execution_count": null,
      "outputs": [
        {
          "output_type": "execute_result",
          "data": {
            "text/plain": [
              "a    3.0\n",
              "b    NaN\n",
              "c    4.0\n",
              "d    6.0\n",
              "Name: sample, dtype: float64"
            ]
          },
          "metadata": {},
          "execution_count": 8
        }
      ]
    },
    {
      "cell_type": "code",
      "source": [
        "# bool dtype\n",
        "s = pd.Series([True, False, True])\n",
        "s"
      ],
      "metadata": {
        "colab": {
          "base_uri": "https://localhost:8080/"
        },
        "id": "WHq-Z3dTO3A3",
        "outputId": "d900dfac-5f5d-421f-b7a6-cf4e99740523"
      },
      "execution_count": null,
      "outputs": [
        {
          "output_type": "execute_result",
          "data": {
            "text/plain": [
              "0     True\n",
              "1    False\n",
              "2     True\n",
              "dtype: bool"
            ]
          },
          "metadata": {},
          "execution_count": 10
        }
      ]
    },
    {
      "cell_type": "code",
      "source": [
        "# date as index\n",
        "s = pd.Series(data=np.arange(10, 20), index=pd.date_range(start='20221018', periods=10))\n",
        "s"
      ],
      "metadata": {
        "colab": {
          "base_uri": "https://localhost:8080/"
        },
        "id": "6V6CFzCbPEjd",
        "outputId": "3a90cd89-51c2-4bf3-cace-6be611420686"
      },
      "execution_count": 18,
      "outputs": [
        {
          "output_type": "execute_result",
          "data": {
            "text/plain": [
              "2022-10-18    10\n",
              "2022-10-19    11\n",
              "2022-10-20    12\n",
              "2022-10-21    13\n",
              "2022-10-22    14\n",
              "2022-10-23    15\n",
              "2022-10-24    16\n",
              "2022-10-25    17\n",
              "2022-10-26    18\n",
              "2022-10-27    19\n",
              "Freq: D, dtype: int64"
            ]
          },
          "metadata": {},
          "execution_count": 18
        }
      ]
    },
    {
      "cell_type": "code",
      "source": [
        "s.index"
      ],
      "metadata": {
        "colab": {
          "base_uri": "https://localhost:8080/"
        },
        "id": "N0B2OKn0UYgO",
        "outputId": "a34f86a8-7443-4e26-d478-ff7e15b44444"
      },
      "execution_count": 19,
      "outputs": [
        {
          "output_type": "execute_result",
          "data": {
            "text/plain": [
              "DatetimeIndex(['2022-10-18', '2022-10-19', '2022-10-20', '2022-10-21',\n",
              "               '2022-10-22', '2022-10-23', '2022-10-24', '2022-10-25',\n",
              "               '2022-10-26', '2022-10-27'],\n",
              "              dtype='datetime64[ns]', freq='D')"
            ]
          },
          "metadata": {},
          "execution_count": 19
        }
      ]
    },
    {
      "cell_type": "code",
      "source": [
        "list(s.index)"
      ],
      "metadata": {
        "colab": {
          "base_uri": "https://localhost:8080/"
        },
        "id": "S1biwvGKUb-e",
        "outputId": "deb1eece-914e-4e1c-8fd7-9fa8a6a5b93e"
      },
      "execution_count": 20,
      "outputs": [
        {
          "output_type": "execute_result",
          "data": {
            "text/plain": [
              "[Timestamp('2022-10-18 00:00:00', freq='D'),\n",
              " Timestamp('2022-10-19 00:00:00', freq='D'),\n",
              " Timestamp('2022-10-20 00:00:00', freq='D'),\n",
              " Timestamp('2022-10-21 00:00:00', freq='D'),\n",
              " Timestamp('2022-10-22 00:00:00', freq='D'),\n",
              " Timestamp('2022-10-23 00:00:00', freq='D'),\n",
              " Timestamp('2022-10-24 00:00:00', freq='D'),\n",
              " Timestamp('2022-10-25 00:00:00', freq='D'),\n",
              " Timestamp('2022-10-26 00:00:00', freq='D'),\n",
              " Timestamp('2022-10-27 00:00:00', freq='D')]"
            ]
          },
          "metadata": {},
          "execution_count": 20
        }
      ]
    },
    {
      "cell_type": "code",
      "source": [
        "# object dtype\n",
        "s = pd.Series(data=['python', 'java', 'php'], name='languages')\n",
        "s"
      ],
      "metadata": {
        "colab": {
          "base_uri": "https://localhost:8080/"
        },
        "id": "LpGKJzkhRWzs",
        "outputId": "db2f2700-295c-4ec9-9d43-f66fb7856302"
      },
      "execution_count": 21,
      "outputs": [
        {
          "output_type": "execute_result",
          "data": {
            "text/plain": [
              "0    python\n",
              "1      java\n",
              "2       php\n",
              "Name: languages, dtype: object"
            ]
          },
          "metadata": {},
          "execution_count": 21
        }
      ]
    },
    {
      "cell_type": "markdown",
      "source": [
        "attributes:"
      ],
      "metadata": {
        "id": "0p-Mlw0rW2SO"
      }
    },
    {
      "cell_type": "code",
      "source": [
        "type(s)"
      ],
      "metadata": {
        "id": "dwSGmoW3RtDD",
        "outputId": "e07a904e-0f7e-481b-ebf0-220dcef41c39",
        "colab": {
          "base_uri": "https://localhost:8080/"
        }
      },
      "execution_count": null,
      "outputs": [
        {
          "output_type": "execute_result",
          "data": {
            "text/plain": [
              "pandas.core.series.Series"
            ]
          },
          "metadata": {},
          "execution_count": 16
        }
      ]
    },
    {
      "cell_type": "code",
      "source": [
        "s.index"
      ],
      "metadata": {
        "colab": {
          "base_uri": "https://localhost:8080/"
        },
        "id": "p49226hvTZo9",
        "outputId": "090dca76-54a2-4689-d5c1-bf2f5ffa552d"
      },
      "execution_count": 17,
      "outputs": [
        {
          "output_type": "execute_result",
          "data": {
            "text/plain": [
              "RangeIndex(start=0, stop=3, step=1)"
            ]
          },
          "metadata": {},
          "execution_count": 17
        }
      ]
    },
    {
      "cell_type": "code",
      "source": [
        "s.values"
      ],
      "metadata": {
        "colab": {
          "base_uri": "https://localhost:8080/"
        },
        "id": "aYL6DofgVL9h",
        "outputId": "57370af6-1a0f-4789-89f3-4e62a7b43e67"
      },
      "execution_count": 22,
      "outputs": [
        {
          "output_type": "execute_result",
          "data": {
            "text/plain": [
              "array(['python', 'java', 'php'], dtype=object)"
            ]
          },
          "metadata": {},
          "execution_count": 22
        }
      ]
    },
    {
      "cell_type": "code",
      "source": [
        "s.dtypes"
      ],
      "metadata": {
        "colab": {
          "base_uri": "https://localhost:8080/"
        },
        "id": "i86ygrUTVlK0",
        "outputId": "7710d7d9-1ce6-40fc-c2b8-d725f89506cc"
      },
      "execution_count": 23,
      "outputs": [
        {
          "output_type": "execute_result",
          "data": {
            "text/plain": [
              "dtype('O')"
            ]
          },
          "metadata": {},
          "execution_count": 23
        }
      ]
    },
    {
      "cell_type": "code",
      "source": [
        "s.shape"
      ],
      "metadata": {
        "colab": {
          "base_uri": "https://localhost:8080/"
        },
        "id": "jhWr2FUtWeVY",
        "outputId": "f0ae7368-0ab3-48a0-bff7-374e67ad412a"
      },
      "execution_count": 24,
      "outputs": [
        {
          "output_type": "execute_result",
          "data": {
            "text/plain": [
              "(3,)"
            ]
          },
          "metadata": {},
          "execution_count": 24
        }
      ]
    },
    {
      "cell_type": "code",
      "source": [
        "# pd.Series from dictionary\n",
        "price = pd.Series(data={'PGE': 100, 'Tauron': 80, 'Energa': 85})\n",
        "price"
      ],
      "metadata": {
        "colab": {
          "base_uri": "https://localhost:8080/"
        },
        "id": "5FnJEyF6XDoz",
        "outputId": "035db475-8174-4db2-fdef-f65e9222dcf2"
      },
      "execution_count": 25,
      "outputs": [
        {
          "output_type": "execute_result",
          "data": {
            "text/plain": [
              "PGE       100\n",
              "Tauron     80\n",
              "Energa     85\n",
              "dtype: int64"
            ]
          },
          "metadata": {},
          "execution_count": 25
        }
      ]
    },
    {
      "cell_type": "code",
      "source": [
        "# to get value\n",
        "price['PGE']"
      ],
      "metadata": {
        "colab": {
          "base_uri": "https://localhost:8080/"
        },
        "id": "W3AIr4CwXsBx",
        "outputId": "ba33df50-2aff-4860-9e07-63155c7042cb"
      },
      "execution_count": 28,
      "outputs": [
        {
          "output_type": "execute_result",
          "data": {
            "text/plain": [
              "100"
            ]
          },
          "metadata": {},
          "execution_count": 28
        }
      ]
    },
    {
      "cell_type": "code",
      "source": [
        "# or\n",
        "price[0]"
      ],
      "metadata": {
        "colab": {
          "base_uri": "https://localhost:8080/"
        },
        "id": "dKskj04NYDii",
        "outputId": "daca9521-47d7-4c8e-9c69-231a5078a526"
      },
      "execution_count": 30,
      "outputs": [
        {
          "output_type": "execute_result",
          "data": {
            "text/plain": [
              "100"
            ]
          },
          "metadata": {},
          "execution_count": 30
        }
      ]
    },
    {
      "cell_type": "markdown",
      "source": [
        "basic functions:"
      ],
      "metadata": {
        "id": "sWh3YoR2aALa"
      }
    },
    {
      "cell_type": "code",
      "source": [
        "# number of items\n",
        "price.count()"
      ],
      "metadata": {
        "colab": {
          "base_uri": "https://localhost:8080/"
        },
        "id": "k-Y_JccQaCei",
        "outputId": "c701b428-9ee2-4d20-86bb-cdd5ed7021b9"
      },
      "execution_count": 35,
      "outputs": [
        {
          "output_type": "execute_result",
          "data": {
            "text/plain": [
              "3"
            ]
          },
          "metadata": {},
          "execution_count": 35
        }
      ]
    },
    {
      "cell_type": "code",
      "source": [
        "# shows the frequency of our values in the price object\n",
        "price.value_counts()"
      ],
      "metadata": {
        "colab": {
          "base_uri": "https://localhost:8080/"
        },
        "id": "8O9y3YtkaIum",
        "outputId": "3caa7e62-a142-4465-d2a6-db6a2cc6b5b2"
      },
      "execution_count": 36,
      "outputs": [
        {
          "output_type": "execute_result",
          "data": {
            "text/plain": [
              "100    1\n",
              "80     1\n",
              "85     1\n",
              "dtype: int64"
            ]
          },
          "metadata": {},
          "execution_count": 36
        }
      ]
    },
    {
      "cell_type": "code",
      "source": [
        "price.sum()"
      ],
      "metadata": {
        "colab": {
          "base_uri": "https://localhost:8080/"
        },
        "id": "piJ-vvf9aoIL",
        "outputId": "2d3dcc80-acbd-4070-f374-de8621c36de8"
      },
      "execution_count": 37,
      "outputs": [
        {
          "output_type": "execute_result",
          "data": {
            "text/plain": [
              "265"
            ]
          },
          "metadata": {},
          "execution_count": 37
        }
      ]
    },
    {
      "cell_type": "code",
      "source": [
        "price.min()"
      ],
      "metadata": {
        "colab": {
          "base_uri": "https://localhost:8080/"
        },
        "id": "xKQfY8wRarX4",
        "outputId": "3fd05f18-b1d1-4ba6-a751-bb91346ff2e8"
      },
      "execution_count": 38,
      "outputs": [
        {
          "output_type": "execute_result",
          "data": {
            "text/plain": [
              "80"
            ]
          },
          "metadata": {},
          "execution_count": 38
        }
      ]
    },
    {
      "cell_type": "code",
      "source": [
        "price.max()"
      ],
      "metadata": {
        "colab": {
          "base_uri": "https://localhost:8080/"
        },
        "id": "ogg6FgzAauYD",
        "outputId": "c01e9601-e250-44b4-a513-bef69fe9bf51"
      },
      "execution_count": 39,
      "outputs": [
        {
          "output_type": "execute_result",
          "data": {
            "text/plain": [
              "100"
            ]
          },
          "metadata": {},
          "execution_count": 39
        }
      ]
    },
    {
      "cell_type": "code",
      "source": [
        "price.std()"
      ],
      "metadata": {
        "colab": {
          "base_uri": "https://localhost:8080/"
        },
        "id": "32PB0M1Fa2pO",
        "outputId": "50c7b26b-7281-4d42-ebfe-30fdb2abe8b5"
      },
      "execution_count": 40,
      "outputs": [
        {
          "output_type": "execute_result",
          "data": {
            "text/plain": [
              "10.408329997330664"
            ]
          },
          "metadata": {},
          "execution_count": 40
        }
      ]
    },
    {
      "cell_type": "code",
      "source": [
        "# the set of basic statistics\n",
        "price.describe()"
      ],
      "metadata": {
        "colab": {
          "base_uri": "https://localhost:8080/"
        },
        "id": "4YUZhzl6a_DS",
        "outputId": "4a73dc21-4a96-402f-d041-1570c4216c97"
      },
      "execution_count": 43,
      "outputs": [
        {
          "output_type": "execute_result",
          "data": {
            "text/plain": [
              "count      3.000000\n",
              "mean      88.333333\n",
              "std       10.408330\n",
              "min       80.000000\n",
              "25%       82.500000\n",
              "50%       85.000000\n",
              "75%       92.500000\n",
              "max      100.000000\n",
              "dtype: float64"
            ]
          },
          "metadata": {},
          "execution_count": 43
        }
      ]
    },
    {
      "cell_type": "code",
      "source": [
        "price.nlargest(2)"
      ],
      "metadata": {
        "colab": {
          "base_uri": "https://localhost:8080/"
        },
        "id": "x7_roXLocq-u",
        "outputId": "2a23bc76-c23b-4e92-a6e5-a267461a41f5"
      },
      "execution_count": 48,
      "outputs": [
        {
          "output_type": "execute_result",
          "data": {
            "text/plain": [
              "PGE       100\n",
              "Energa     85\n",
              "dtype: int64"
            ]
          },
          "metadata": {},
          "execution_count": 48
        }
      ]
    },
    {
      "cell_type": "code",
      "source": [
        "price.nsmallest(2)"
      ],
      "metadata": {
        "colab": {
          "base_uri": "https://localhost:8080/"
        },
        "id": "H-TKOxGgc-w2",
        "outputId": "3c6c08e4-4c94-40e7-a0f6-bfeea97b6cda"
      },
      "execution_count": 47,
      "outputs": [
        {
          "output_type": "execute_result",
          "data": {
            "text/plain": [
              "Tauron    80\n",
              "Energa    85\n",
              "dtype: int64"
            ]
          },
          "metadata": {},
          "execution_count": 47
        }
      ]
    },
    {
      "cell_type": "code",
      "source": [
        "price.rank()"
      ],
      "metadata": {
        "colab": {
          "base_uri": "https://localhost:8080/"
        },
        "id": "y1pNP-6Odnm_",
        "outputId": "250f7c66-a4aa-49ed-822f-b76ef39d016b"
      },
      "execution_count": 49,
      "outputs": [
        {
          "output_type": "execute_result",
          "data": {
            "text/plain": [
              "PGE       3.0\n",
              "Tauron    1.0\n",
              "Energa    2.0\n",
              "dtype: float64"
            ]
          },
          "metadata": {},
          "execution_count": 49
        }
      ]
    },
    {
      "cell_type": "code",
      "source": [
        "price.sort_values()"
      ],
      "metadata": {
        "colab": {
          "base_uri": "https://localhost:8080/"
        },
        "id": "ylBp2xZndrrs",
        "outputId": "771f0472-5a29-4d6f-a289-a827ac5852db"
      },
      "execution_count": 50,
      "outputs": [
        {
          "output_type": "execute_result",
          "data": {
            "text/plain": [
              "Tauron     80\n",
              "Energa     85\n",
              "PGE       100\n",
              "dtype: int64"
            ]
          },
          "metadata": {},
          "execution_count": 50
        }
      ]
    },
    {
      "cell_type": "code",
      "source": [
        "price.sort_values(ascending=False)"
      ],
      "metadata": {
        "colab": {
          "base_uri": "https://localhost:8080/"
        },
        "id": "sVtvlcPUd3-c",
        "outputId": "1d687d43-5f2b-4601-b705-7c7567833fde"
      },
      "execution_count": 51,
      "outputs": [
        {
          "output_type": "execute_result",
          "data": {
            "text/plain": [
              "PGE       100\n",
              "Energa     85\n",
              "Tauron     80\n",
              "dtype: int64"
            ]
          },
          "metadata": {},
          "execution_count": 51
        }
      ]
    },
    {
      "cell_type": "code",
      "source": [
        "# to convert data in our object\n",
        "price.apply(lambda x: x * 3.8)"
      ],
      "metadata": {
        "colab": {
          "base_uri": "https://localhost:8080/"
        },
        "id": "QhOm5pxpeQz3",
        "outputId": "cf46ed6b-c6e4-40b0-f61c-f9afa5d3f3df"
      },
      "execution_count": 52,
      "outputs": [
        {
          "output_type": "execute_result",
          "data": {
            "text/plain": [
              "PGE       380.0\n",
              "Tauron    304.0\n",
              "Energa    323.0\n",
              "dtype: float64"
            ]
          },
          "metadata": {},
          "execution_count": 52
        }
      ]
    },
    {
      "cell_type": "markdown",
      "source": [
        "# Basic data structure: pd.DataFrame"
      ],
      "metadata": {
        "id": "CDTN_TzTKTA4"
      }
    },
    {
      "cell_type": "code",
      "source": [],
      "metadata": {
        "id": "qKj4OJjhKY-Y"
      },
      "execution_count": null,
      "outputs": []
    },
    {
      "cell_type": "markdown",
      "source": [
        "# Column selection"
      ],
      "metadata": {
        "id": "QkXGAa0PKZWw"
      }
    },
    {
      "cell_type": "code",
      "source": [],
      "metadata": {
        "id": "eKSeTQM3KoSU"
      },
      "execution_count": null,
      "outputs": []
    }
  ]
}